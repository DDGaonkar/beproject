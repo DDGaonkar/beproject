{
 "cells": [
  {
   "cell_type": "code",
   "execution_count": 1,
   "metadata": {
    "collapsed": true
   },
   "outputs": [],
   "source": [
    "import numpy as np\n",
    "import matplotlib.pyplot as plt\n",
    "import pandas as pd"
   ]
  },
  {
   "cell_type": "code",
   "execution_count": 2,
   "metadata": {
    "collapsed": true
   },
   "outputs": [],
   "source": [
    "dataset = pd.read_csv('data1.csv')\n",
    "# X: independent variable matrix & y: dependent variable vector\n",
    "X = dataset.iloc[:,1:7].values\n",
    "# X = pd.DataFrame(X)\n",
    "Y  = dataset.iloc[:,0].values"
   ]
  },
  {
   "cell_type": "code",
   "execution_count": 3,
   "metadata": {},
   "outputs": [
    {
     "name": "stderr",
     "output_type": "stream",
     "text": [
      "/home/deepanshu/anaconda3/lib/python3.5/site-packages/sklearn/cross_validation.py:44: DeprecationWarning: This module was deprecated in version 0.18 in favor of the model_selection module into which all the refactored classes and functions are moved. Also note that the interface of the new CV iterators are different from that of this module. This module will be removed in 0.20.\n",
      "  \"This module will be removed in 0.20.\", DeprecationWarning)\n"
     ]
    }
   ],
   "source": [
    "from sklearn.cross_validation import train_test_split\n",
    "X_train, X_test, Y_train, Y_test = train_test_split(X, Y, test_size = 0.2, random_state = 0)"
   ]
  },
  {
   "cell_type": "code",
   "execution_count": 4,
   "metadata": {},
   "outputs": [
    {
     "name": "stderr",
     "output_type": "stream",
     "text": [
      "Using TensorFlow backend.\n"
     ]
    }
   ],
   "source": [
    "import keras \n",
    "from keras.models import Sequential\n",
    "from keras.layers import Dense "
   ]
  },
  {
   "cell_type": "code",
   "execution_count": 10,
   "metadata": {
    "collapsed": true
   },
   "outputs": [],
   "source": [
    "# Initializing the ANN\n",
    "model = Sequential()\n",
    "\n",
    "# Adding the input layer and the first hidden layer\n",
    "model.add(Dense(4, kernel_initializer = 'uniform' , activation = 'relu', input_dim = 6))    \n",
    "\n",
    "# Adding another hidden layer \n",
    "model.add(Dense(4, kernel_initializer = 'uniform', activation = 'relu'))\n",
    "\n",
    "# Adding the output layer \n",
    "model.add(Dense(units= 1, kernel_initializer = 'uniform', activation = 'linear'))        \n",
    "\n",
    "# Compiling the ANN\n",
    "model.compile(optimizer = 'rmsprop', loss = 'mse', metrics = ['accuracy'])"
   ]
  },
  {
   "cell_type": "code",
   "execution_count": 14,
   "metadata": {
    "scrolled": false
   },
   "outputs": [
    {
     "name": "stdout",
     "output_type": "stream",
     "text": [
      "Epoch 1/100\n",
      "12/12 [==============================] - 0s 2ms/step - loss: 919.4293 - acc: 0.0000e+00\n",
      "Epoch 2/100\n",
      "12/12 [==============================] - 0s 2ms/step - loss: 917.4300 - acc: 0.0000e+00\n",
      "Epoch 3/100\n",
      "12/12 [==============================] - 0s 1ms/step - loss: 915.8032 - acc: 0.0000e+00\n",
      "Epoch 4/100\n",
      "12/12 [==============================] - 0s 1ms/step - loss: 916.6382 - acc: 0.0000e+00\n",
      "Epoch 5/100\n",
      "12/12 [==============================] - 0s 1ms/step - loss: 914.6819 - acc: 0.0000e+00\n",
      "Epoch 6/100\n",
      "12/12 [==============================] - 0s 3ms/step - loss: 912.7603 - acc: 0.0000e+00\n",
      "Epoch 7/100\n",
      "12/12 [==============================] - 0s 2ms/step - loss: 911.9963 - acc: 0.0000e+00\n",
      "Epoch 8/100\n",
      "12/12 [==============================] - 0s 1ms/step - loss: 917.4699 - acc: 0.0000e+00\n",
      "Epoch 9/100\n",
      "12/12 [==============================] - 0s 1ms/step - loss: 912.4545 - acc: 0.0000e+00\n",
      "Epoch 10/100\n",
      "12/12 [==============================] - 0s 2ms/step - loss: 912.0172 - acc: 0.0000e+00\n",
      "Epoch 11/100\n",
      "12/12 [==============================] - 0s 1ms/step - loss: 912.8272 - acc: 0.0000e+00\n",
      "Epoch 12/100\n",
      "12/12 [==============================] - 0s 2ms/step - loss: 911.2086 - acc: 0.0000e+00\n",
      "Epoch 13/100\n",
      "12/12 [==============================] - 0s 1ms/step - loss: 912.2314 - acc: 0.0000e+00\n",
      "Epoch 14/100\n",
      "12/12 [==============================] - 0s 1ms/step - loss: 912.2378 - acc: 0.0000e+00\n",
      "Epoch 15/100\n",
      "12/12 [==============================] - 0s 2ms/step - loss: 908.7371 - acc: 0.0000e+00\n",
      "Epoch 16/100\n",
      "12/12 [==============================] - 0s 2ms/step - loss: 908.2805 - acc: 0.0000e+00\n",
      "Epoch 17/100\n",
      "12/12 [==============================] - 0s 2ms/step - loss: 907.3846 - acc: 0.0000e+00\n",
      "Epoch 18/100\n",
      "12/12 [==============================] - 0s 1ms/step - loss: 906.4654 - acc: 0.0000e+00\n",
      "Epoch 19/100\n",
      "12/12 [==============================] - 0s 1ms/step - loss: 905.3812 - acc: 0.0000e+00\n",
      "Epoch 20/100\n",
      "12/12 [==============================] - 0s 2ms/step - loss: 903.8851 - acc: 0.0833 \n",
      "Epoch 21/100\n",
      "12/12 [==============================] - 0s 1ms/step - loss: 907.4061 - acc: 0.0833\n",
      "Epoch 22/100\n",
      "12/12 [==============================] - 0s 2ms/step - loss: 904.8830 - acc: 0.0833\n",
      "Epoch 23/100\n",
      "12/12 [==============================] - 0s 1ms/step - loss: 903.7116 - acc: 0.0000e+00\n",
      "Epoch 24/100\n",
      "12/12 [==============================] - 0s 1ms/step - loss: 902.5642 - acc: 0.0833\n",
      "Epoch 25/100\n",
      "12/12 [==============================] - 0s 1ms/step - loss: 903.3838 - acc: 0.0833\n",
      "Epoch 26/100\n",
      "12/12 [==============================] - 0s 2ms/step - loss: 901.9926 - acc: 0.0833\n",
      "Epoch 27/100\n",
      "12/12 [==============================] - ETA: 0s - loss: 1051.4717 - acc: 0.10 - 0s 1ms/step - loss: 901.3599 - acc: 0.0833\n",
      "Epoch 28/100\n",
      "12/12 [==============================] - 0s 2ms/step - loss: 900.2904 - acc: 0.0833\n",
      "Epoch 29/100\n",
      "12/12 [==============================] - 0s 1ms/step - loss: 902.8978 - acc: 0.0833\n",
      "Epoch 30/100\n",
      "12/12 [==============================] - 0s 1ms/step - loss: 899.8459 - acc: 0.0833\n",
      "Epoch 31/100\n",
      "12/12 [==============================] - 0s 2ms/step - loss: 899.1692 - acc: 0.0833\n",
      "Epoch 32/100\n",
      "12/12 [==============================] - 0s 2ms/step - loss: 897.1846 - acc: 0.0833\n",
      "Epoch 33/100\n",
      "12/12 [==============================] - ETA: 0s - loss: 759.4530 - acc: 0.100 - 0s 1ms/step - loss: 896.2811 - acc: 0.0833\n",
      "Epoch 34/100\n",
      "12/12 [==============================] - 0s 1ms/step - loss: 894.9700 - acc: 0.0833\n",
      "Epoch 35/100\n",
      "12/12 [==============================] - 0s 1ms/step - loss: 895.6097 - acc: 0.0833\n",
      "Epoch 36/100\n",
      "12/12 [==============================] - 0s 2ms/step - loss: 893.4354 - acc: 0.0833\n",
      "Epoch 37/100\n",
      "12/12 [==============================] - 0s 2ms/step - loss: 894.3044 - acc: 0.0833\n",
      "Epoch 38/100\n",
      "12/12 [==============================] - 0s 3ms/step - loss: 891.3321 - acc: 0.0833\n",
      "Epoch 39/100\n",
      "12/12 [==============================] - 0s 3ms/step - loss: 890.3684 - acc: 0.0833\n",
      "Epoch 40/100\n",
      "12/12 [==============================] - 0s 2ms/step - loss: 889.3660 - acc: 0.0000e+00\n",
      "Epoch 41/100\n",
      "12/12 [==============================] - 0s 2ms/step - loss: 889.4428 - acc: 0.0000e+00\n",
      "Epoch 42/100\n",
      "12/12 [==============================] - 0s 2ms/step - loss: 887.4751 - acc: 0.0000e+00\n",
      "Epoch 43/100\n",
      "12/12 [==============================] - 0s 2ms/step - loss: 887.7425 - acc: 0.0000e+00\n",
      "Epoch 44/100\n",
      "12/12 [==============================] - ETA: 0s - loss: 1030.5492 - acc: 0.0000e+ - 0s 1ms/step - loss: 886.6780 - acc: 0.0000e+00\n",
      "Epoch 45/100\n",
      "12/12 [==============================] - 0s 1ms/step - loss: 886.9336 - acc: 0.0000e+00\n",
      "Epoch 46/100\n",
      "12/12 [==============================] - 0s 1ms/step - loss: 887.0012 - acc: 0.0000e+00\n",
      "Epoch 47/100\n",
      "12/12 [==============================] - 0s 2ms/step - loss: 883.5578 - acc: 0.0000e+00\n",
      "Epoch 48/100\n",
      "12/12 [==============================] - 0s 1ms/step - loss: 882.8618 - acc: 0.0000e+00\n",
      "Epoch 49/100\n",
      "12/12 [==============================] - 0s 3ms/step - loss: 882.9067 - acc: 0.0000e+00\n",
      "Epoch 50/100\n",
      "12/12 [==============================] - 0s 2ms/step - loss: 882.1285 - acc: 0.0000e+00\n",
      "Epoch 51/100\n",
      "12/12 [==============================] - 0s 2ms/step - loss: 881.1300 - acc: 0.0000e+00\n",
      "Epoch 52/100\n",
      "12/12 [==============================] - 0s 3ms/step - loss: 881.0523 - acc: 0.0000e+00\n",
      "Epoch 53/100\n",
      "12/12 [==============================] - 0s 2ms/step - loss: 880.0170 - acc: 0.0000e+00\n",
      "Epoch 54/100\n",
      "12/12 [==============================] - 0s 2ms/step - loss: 881.7340 - acc: 0.0000e+00\n",
      "Epoch 55/100\n",
      "12/12 [==============================] - 0s 2ms/step - loss: 882.4940 - acc: 0.0000e+00\n",
      "Epoch 56/100\n",
      "12/12 [==============================] - 0s 2ms/step - loss: 880.4834 - acc: 0.0000e+00\n",
      "Epoch 57/100\n",
      "12/12 [==============================] - 0s 2ms/step - loss: 877.8227 - acc: 0.0000e+00\n",
      "Epoch 58/100\n",
      "12/12 [==============================] - 0s 2ms/step - loss: 876.5046 - acc: 0.0000e+00\n",
      "Epoch 59/100\n",
      "12/12 [==============================] - 0s 2ms/step - loss: 875.1445 - acc: 0.0000e+00\n",
      "Epoch 60/100\n",
      "12/12 [==============================] - 0s 2ms/step - loss: 874.3949 - acc: 0.0000e+00\n",
      "Epoch 61/100\n",
      "12/12 [==============================] - 0s 2ms/step - loss: 877.7576 - acc: 0.0000e+00\n",
      "Epoch 62/100\n",
      "12/12 [==============================] - 0s 2ms/step - loss: 875.5701 - acc: 0.0000e+00\n",
      "Epoch 63/100\n",
      "12/12 [==============================] - 0s 2ms/step - loss: 874.5917 - acc: 0.0000e+00\n",
      "Epoch 64/100\n",
      "12/12 [==============================] - 0s 2ms/step - loss: 873.1036 - acc: 0.0000e+00\n",
      "Epoch 65/100\n",
      "12/12 [==============================] - 0s 3ms/step - loss: 871.4201 - acc: 0.0000e+00\n",
      "Epoch 66/100\n",
      "12/12 [==============================] - 0s 2ms/step - loss: 868.8339 - acc: 0.0000e+00\n",
      "Epoch 67/100\n",
      "12/12 [==============================] - 0s 1ms/step - loss: 868.4815 - acc: 0.0000e+00\n",
      "Epoch 68/100\n",
      "12/12 [==============================] - 0s 2ms/step - loss: 868.1099 - acc: 0.0000e+00\n",
      "Epoch 69/100\n",
      "12/12 [==============================] - 0s 1ms/step - loss: 868.4452 - acc: 0.0000e+00\n",
      "Epoch 70/100\n",
      "12/12 [==============================] - 0s 1ms/step - loss: 869.3681 - acc: 0.0000e+00\n",
      "Epoch 71/100\n",
      "12/12 [==============================] - 0s 2ms/step - loss: 867.0260 - acc: 0.0000e+00\n",
      "Epoch 72/100\n",
      "12/12 [==============================] - 0s 1ms/step - loss: 865.4460 - acc: 0.0000e+00\n",
      "Epoch 73/100\n",
      "12/12 [==============================] - 0s 1ms/step - loss: 865.2746 - acc: 0.0000e+00\n",
      "Epoch 74/100\n",
      "12/12 [==============================] - 0s 2ms/step - loss: 864.6012 - acc: 0.0000e+00\n",
      "Epoch 75/100\n",
      "12/12 [==============================] - 0s 1ms/step - loss: 863.0203 - acc: 0.0000e+00\n",
      "Epoch 76/100\n",
      "12/12 [==============================] - 0s 1ms/step - loss: 864.2729 - acc: 0.0000e+00\n",
      "Epoch 77/100\n",
      "12/12 [==============================] - 0s 1ms/step - loss: 861.6529 - acc: 0.0000e+00\n",
      "Epoch 78/100\n",
      "12/12 [==============================] - 0s 1ms/step - loss: 859.8284 - acc: 0.0000e+00\n",
      "Epoch 79/100\n",
      "12/12 [==============================] - 0s 1ms/step - loss: 859.3340 - acc: 0.0000e+00\n",
      "Epoch 80/100\n",
      "12/12 [==============================] - 0s 1ms/step - loss: 858.7713 - acc: 0.0000e+00\n",
      "Epoch 81/100\n"
     ]
    },
    {
     "name": "stdout",
     "output_type": "stream",
     "text": [
      "12/12 [==============================] - 0s 2ms/step - loss: 860.6360 - acc: 0.0000e+00\n",
      "Epoch 82/100\n",
      "12/12 [==============================] - 0s 2ms/step - loss: 857.5425 - acc: 0.0000e+00\n",
      "Epoch 83/100\n",
      "12/12 [==============================] - 0s 1ms/step - loss: 857.1985 - acc: 0.0000e+00\n",
      "Epoch 84/100\n",
      "12/12 [==============================] - 0s 2ms/step - loss: 856.6468 - acc: 0.0000e+00\n",
      "Epoch 85/100\n",
      "12/12 [==============================] - 0s 2ms/step - loss: 856.2871 - acc: 0.0000e+00\n",
      "Epoch 86/100\n",
      "12/12 [==============================] - 0s 1ms/step - loss: 854.1259 - acc: 0.0000e+00\n",
      "Epoch 87/100\n",
      "12/12 [==============================] - 0s 1ms/step - loss: 853.0489 - acc: 0.0000e+00\n",
      "Epoch 88/100\n",
      "12/12 [==============================] - 0s 2ms/step - loss: 852.4007 - acc: 0.0000e+00\n",
      "Epoch 89/100\n",
      "12/12 [==============================] - 0s 2ms/step - loss: 851.6885 - acc: 0.0000e+00\n",
      "Epoch 90/100\n",
      "12/12 [==============================] - 0s 2ms/step - loss: 851.1961 - acc: 0.0000e+00\n",
      "Epoch 91/100\n",
      "12/12 [==============================] - 0s 1ms/step - loss: 852.9981 - acc: 0.0000e+00\n",
      "Epoch 92/100\n",
      "12/12 [==============================] - 0s 2ms/step - loss: 851.6726 - acc: 0.0000e+00\n",
      "Epoch 93/100\n",
      "12/12 [==============================] - 0s 1ms/step - loss: 848.0872 - acc: 0.0000e+00\n",
      "Epoch 94/100\n",
      "12/12 [==============================] - 0s 2ms/step - loss: 848.6711 - acc: 0.0000e+00\n",
      "Epoch 95/100\n",
      "12/12 [==============================] - 0s 2ms/step - loss: 847.5257 - acc: 0.0000e+00\n",
      "Epoch 96/100\n",
      "12/12 [==============================] - 0s 1ms/step - loss: 847.3883 - acc: 0.0000e+00\n",
      "Epoch 97/100\n",
      "12/12 [==============================] - 0s 1ms/step - loss: 848.0394 - acc: 0.0000e+00\n",
      "Epoch 98/100\n",
      "12/12 [==============================] - 0s 2ms/step - loss: 843.4919 - acc: 0.0000e+00\n",
      "Epoch 99/100\n",
      "12/12 [==============================] - 0s 2ms/step - loss: 842.9807 - acc: 0.0000e+00\n",
      "Epoch 100/100\n",
      "12/12 [==============================] - 0s 2ms/step - loss: 842.3174 - acc: 0.0000e+00\n"
     ]
    },
    {
     "data": {
      "text/plain": [
       "<keras.callbacks.History at 0x7f7bab7656d8>"
      ]
     },
     "execution_count": 14,
     "metadata": {},
     "output_type": "execute_result"
    }
   ],
   "source": [
    "# Fitting the ANN to the training set \n",
    "model.fit(X_train, Y_train, batch_size=10, epochs = 100)"
   ]
  },
  {
   "cell_type": "code",
   "execution_count": 15,
   "metadata": {
    "collapsed": true
   },
   "outputs": [],
   "source": [
    "# predicting the test set result \n",
    "Y_pred = model.predict(X_test)"
   ]
  },
  {
   "cell_type": "code",
   "execution_count": 16,
   "metadata": {},
   "outputs": [
    {
     "data": {
      "text/plain": [
       "array([[ 12.1779623 ],\n",
       "       [ 27.99796867],\n",
       "       [  9.70356274],\n",
       "       [  5.48717546]], dtype=float32)"
      ]
     },
     "execution_count": 16,
     "metadata": {},
     "output_type": "execute_result"
    }
   ],
   "source": [
    "Y_pred"
   ]
  },
  {
   "cell_type": "code",
   "execution_count": 17,
   "metadata": {},
   "outputs": [
    {
     "data": {
      "text/plain": [
       "array([ 12.,   5.,  41.,   4.])"
      ]
     },
     "execution_count": 17,
     "metadata": {},
     "output_type": "execute_result"
    }
   ],
   "source": [
    "Y_test"
   ]
  },
  {
   "cell_type": "code",
   "execution_count": 18,
   "metadata": {
    "collapsed": true
   },
   "outputs": [],
   "source": [
    "from sklearn.ensemble import ExtraTreesRegressor"
   ]
  },
  {
   "cell_type": "code",
   "execution_count": 19,
   "metadata": {
    "collapsed": true
   },
   "outputs": [],
   "source": [
    "tree = ExtraTreesRegressor()"
   ]
  },
  {
   "cell_type": "code",
   "execution_count": 20,
   "metadata": {},
   "outputs": [
    {
     "data": {
      "text/plain": [
       "ExtraTreesRegressor(bootstrap=False, criterion='mse', max_depth=None,\n",
       "          max_features='auto', max_leaf_nodes=None,\n",
       "          min_impurity_split=1e-07, min_samples_leaf=1,\n",
       "          min_samples_split=2, min_weight_fraction_leaf=0.0,\n",
       "          n_estimators=10, n_jobs=1, oob_score=False, random_state=None,\n",
       "          verbose=0, warm_start=False)"
      ]
     },
     "execution_count": 20,
     "metadata": {},
     "output_type": "execute_result"
    }
   ],
   "source": [
    "tree.fit(X, Y)"
   ]
  },
  {
   "cell_type": "code",
   "execution_count": 21,
   "metadata": {},
   "outputs": [
    {
     "name": "stdout",
     "output_type": "stream",
     "text": [
      "[ 0.14751907  0.18234954  0.12028842  0.22772866  0.12581425  0.19630007]\n"
     ]
    }
   ],
   "source": [
    "print(tree.feature_importances_)"
   ]
  },
  {
   "cell_type": "code",
   "execution_count": 38,
   "metadata": {},
   "outputs": [],
   "source": [
    "names = list(dataset.columns[1:])"
   ]
  },
  {
   "cell_type": "code",
   "execution_count": 43,
   "metadata": {},
   "outputs": [],
   "source": [
    "imp = list(tree.feature_importances_)"
   ]
  },
  {
   "cell_type": "code",
   "execution_count": 45,
   "metadata": {},
   "outputs": [],
   "source": [
    "featureImportance = list(zip(names, imp))"
   ]
  },
  {
   "cell_type": "code",
   "execution_count": 46,
   "metadata": {},
   "outputs": [],
   "source": [
    "importances = list(zip(tree.feature_importances_, names))"
   ]
  },
  {
   "cell_type": "code",
   "execution_count": 47,
   "metadata": {},
   "outputs": [
    {
     "data": {
      "text/plain": [
       "[(0.14751907421500249, 'overall_rating'),\n",
       " (0.18234953668276441, 'positive'),\n",
       " (0.12028841597319342, 'negative'),\n",
       " (0.22772865570612227, 'no_of_reviews'),\n",
       " (0.12581424841348957, 'discount_value'),\n",
       " (0.19630006900942795, 'discount_rate')]"
      ]
     },
     "execution_count": 47,
     "metadata": {},
     "output_type": "execute_result"
    }
   ],
   "source": [
    "importances"
   ]
  },
  {
   "cell_type": "code",
   "execution_count": null,
   "metadata": {
    "collapsed": true
   },
   "outputs": [],
   "source": []
  }
 ],
 "metadata": {
  "kernelspec": {
   "display_name": "Python [conda env:anaconda3]",
   "language": "python",
   "name": "conda-env-anaconda3-py"
  },
  "language_info": {
   "codemirror_mode": {
    "name": "ipython",
    "version": 3
   },
   "file_extension": ".py",
   "mimetype": "text/x-python",
   "name": "python",
   "nbconvert_exporter": "python",
   "pygments_lexer": "ipython3",
   "version": "3.5.3"
  }
 },
 "nbformat": 4,
 "nbformat_minor": 2
}
