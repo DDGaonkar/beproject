{
 "cells": [
  {
   "cell_type": "code",
   "execution_count": 70,
   "metadata": {
    "collapsed": true
   },
   "outputs": [],
   "source": [
    "import numpy as np\n",
    "import matplotlib.pyplot as plt\n",
    "import pandas as pd"
   ]
  },
  {
   "cell_type": "code",
   "execution_count": 102,
   "metadata": {
    "collapsed": true
   },
   "outputs": [],
   "source": [
    "dataset = pd.read_csv('data1.csv')\n",
    "# X: independent variable matrix & y: dependent variable vector\n",
    "X = dataset.iloc[:,1:7].values\n",
    "# X = pd.DataFrame(X)\n",
    "Y  = dataset.iloc[:,0].values"
   ]
  },
  {
   "cell_type": "code",
   "execution_count": 103,
   "metadata": {
    "collapsed": true
   },
   "outputs": [],
   "source": [
    "from sklearn.cross_validation import train_test_split\n",
    "X_train, X_test, Y_train, Y_test = train_test_split(X, Y, test_size = 0.2, random_state = 0)"
   ]
  },
  {
   "cell_type": "code",
   "execution_count": 104,
   "metadata": {
    "collapsed": true
   },
   "outputs": [],
   "source": [
    "import keras \n",
    "from keras.models import Sequential\n",
    "from keras.layers import Dense "
   ]
  },
  {
   "cell_type": "code",
   "execution_count": 105,
   "metadata": {
    "collapsed": true
   },
   "outputs": [],
   "source": [
    "# Initializing the ANN\n",
    "model = Sequential()\n",
    "\n",
    "# Adding the input layer and the first hidden layer\n",
    "model.add(Dense(4, kernel_initializer = 'uniform' , activation = 'relu', input_dim = 6))    \n",
    "\n",
    "# Adding another hidden layer \n",
    "model.add(Dense(4, kernel_initializer = 'uniform', activation = 'relu'))\n",
    "\n",
    "# Adding the output layer \n",
    "model.add(Dense(units= 1, kernel_initializer = 'uniform', activation = 'linear'))        \n",
    "\n",
    "# Compiling the ANN\n",
    "model.compile(optimizer = 'rmsprop', loss = 'mse', metrics = ['accuracy'])"
   ]
  },
  {
   "cell_type": "code",
   "execution_count": 118,
   "metadata": {
    "scrolled": false
   },
   "outputs": [
    {
     "name": "stdout",
     "output_type": "stream",
     "text": [
      "Epoch 1/100\n",
      "12/12 [==============================] - 0s 1ms/step - loss: 527.4812 - acc: 0.0000e+00\n",
      "Epoch 2/100\n",
      "12/12 [==============================] - 0s 399us/step - loss: 527.0961 - acc: 0.0000e+00\n",
      "Epoch 3/100\n",
      "12/12 [==============================] - 0s 393us/step - loss: 526.7271 - acc: 0.0000e+00\n",
      "Epoch 4/100\n",
      "12/12 [==============================] - 0s 448us/step - loss: 526.3972 - acc: 0.0000e+00\n",
      "Epoch 5/100\n",
      "12/12 [==============================] - 0s 363us/step - loss: 526.1207 - acc: 0.0000e+00\n",
      "Epoch 6/100\n",
      "12/12 [==============================] - 0s 389us/step - loss: 525.9073 - acc: 0.0000e+00\n",
      "Epoch 7/100\n",
      "12/12 [==============================] - 0s 370us/step - loss: 525.6589 - acc: 0.0000e+00\n",
      "Epoch 8/100\n",
      "12/12 [==============================] - 0s 517us/step - loss: 525.3519 - acc: 0.0000e+00\n",
      "Epoch 9/100\n",
      "12/12 [==============================] - 0s 360us/step - loss: 525.6290 - acc: 0.0000e+00\n",
      "Epoch 10/100\n",
      "12/12 [==============================] - 0s 940us/step - loss: 524.2484 - acc: 0.0000e+00\n",
      "Epoch 11/100\n",
      "12/12 [==============================] - 0s 442us/step - loss: 523.6116 - acc: 0.0000e+00\n",
      "Epoch 12/100\n",
      "12/12 [==============================] - 0s 486us/step - loss: 523.1691 - acc: 0.0000e+00\n",
      "Epoch 13/100\n",
      "12/12 [==============================] - 0s 420us/step - loss: 522.7621 - acc: 0.0000e+00\n",
      "Epoch 14/100\n",
      "12/12 [==============================] - 0s 383us/step - loss: 522.3667 - acc: 0.0000e+00\n",
      "Epoch 15/100\n",
      "12/12 [==============================] - 0s 426us/step - loss: 521.9717 - acc: 0.0000e+00\n",
      "Epoch 16/100\n",
      "12/12 [==============================] - 0s 432us/step - loss: 521.5780 - acc: 0.0000e+00\n",
      "Epoch 17/100\n",
      "12/12 [==============================] - 0s 429us/step - loss: 521.1831 - acc: 0.0000e+00\n",
      "Epoch 18/100\n",
      "12/12 [==============================] - 0s 338us/step - loss: 520.7899 - acc: 0.0000e+00\n",
      "Epoch 19/100\n",
      "12/12 [==============================] - 0s 589us/step - loss: 520.3978 - acc: 0.0000e+00\n",
      "Epoch 20/100\n",
      "12/12 [==============================] - 0s 419us/step - loss: 520.0156 - acc: 0.0000e+00\n",
      "Epoch 21/100\n",
      "12/12 [==============================] - 0s 985us/step - loss: 519.6558 - acc: 0.0000e+00\n",
      "Epoch 22/100\n",
      "12/12 [==============================] - 0s 471us/step - loss: 519.3728 - acc: 0.0000e+00\n",
      "Epoch 23/100\n",
      "12/12 [==============================] - 0s 501us/step - loss: 519.2674 - acc: 0.0000e+00\n",
      "Epoch 24/100\n",
      "12/12 [==============================] - 0s 483us/step - loss: 519.3636 - acc: 0.0000e+00\n",
      "Epoch 25/100\n",
      "12/12 [==============================] - 0s 856us/step - loss: 519.1259 - acc: 0.0000e+00\n",
      "Epoch 26/100\n",
      "12/12 [==============================] - 0s 589us/step - loss: 518.4451 - acc: 0.0000e+00\n",
      "Epoch 27/100\n",
      "12/12 [==============================] - 0s 458us/step - loss: 517.7106 - acc: 0.0000e+00\n",
      "Epoch 28/100\n",
      "12/12 [==============================] - 0s 437us/step - loss: 517.1463 - acc: 0.0000e+00\n",
      "Epoch 29/100\n",
      "12/12 [==============================] - 0s 334us/step - loss: 516.6669 - acc: 0.0000e+00\n",
      "Epoch 30/100\n",
      "12/12 [==============================] - 0s 533us/step - loss: 516.2461 - acc: 0.0000e+00\n",
      "Epoch 31/100\n",
      "12/12 [==============================] - 0s 478us/step - loss: 515.8436 - acc: 0.0000e+00\n",
      "Epoch 32/100\n",
      "12/12 [==============================] - 0s 500us/step - loss: 515.4600 - acc: 0.0000e+00\n",
      "Epoch 33/100\n",
      "12/12 [==============================] - 0s 501us/step - loss: 515.0856 - acc: 0.0000e+00\n",
      "Epoch 34/100\n",
      "12/12 [==============================] - 0s 521us/step - loss: 514.7346 - acc: 0.0000e+00\n",
      "Epoch 35/100\n",
      "12/12 [==============================] - 0s 429us/step - loss: 514.4079 - acc: 0.0000e+00\n",
      "Epoch 36/100\n",
      "12/12 [==============================] - 0s 546us/step - loss: 514.1333 - acc: 0.0000e+00\n",
      "Epoch 37/100\n",
      "12/12 [==============================] - 0s 451us/step - loss: 513.8965 - acc: 0.0000e+00\n",
      "Epoch 38/100\n",
      "12/12 [==============================] - 0s 454us/step - loss: 513.6674 - acc: 0.0000e+00\n",
      "Epoch 39/100\n",
      "12/12 [==============================] - 0s 385us/step - loss: 513.3249 - acc: 0.0000e+00\n",
      "Epoch 40/100\n",
      "12/12 [==============================] - 0s 458us/step - loss: 512.8841 - acc: 0.0000e+00\n",
      "Epoch 41/100\n",
      "12/12 [==============================] - 0s 707us/step - loss: 512.3721 - acc: 0.0000e+00\n",
      "Epoch 42/100\n",
      "12/12 [==============================] - 0s 471us/step - loss: 511.8922 - acc: 0.0000e+00\n",
      "Epoch 43/100\n",
      "12/12 [==============================] - 0s 796us/step - loss: 511.4333 - acc: 0.0000e+00\n",
      "Epoch 44/100\n",
      "12/12 [==============================] - 0s 351us/step - loss: 511.0156 - acc: 0.0000e+00\n",
      "Epoch 45/100\n",
      "12/12 [==============================] - 0s 482us/step - loss: 510.6128 - acc: 0.0000e+00\n",
      "Epoch 46/100\n",
      "12/12 [==============================] - 0s 517us/step - loss: 510.2367 - acc: 0.0000e+00\n",
      "Epoch 47/100\n",
      "12/12 [==============================] - 0s 506us/step - loss: 509.8707 - acc: 0.0000e+00\n",
      "Epoch 48/100\n",
      "12/12 [==============================] - 0s 565us/step - loss: 509.5310 - acc: 0.0000e+00\n",
      "Epoch 49/100\n",
      "12/12 [==============================] - 0s 475us/step - loss: 509.2018 - acc: 0.0000e+00\n",
      "Epoch 50/100\n",
      "12/12 [==============================] - 0s 568us/step - loss: 508.8963 - acc: 0.0000e+00\n",
      "Epoch 51/100\n",
      "12/12 [==============================] - 0s 642us/step - loss: 508.5778 - acc: 0.0000e+00\n",
      "Epoch 52/100\n",
      "12/12 [==============================] - 0s 865us/step - loss: 508.2484 - acc: 0.0000e+00\n",
      "Epoch 53/100\n",
      "12/12 [==============================] - 0s 380us/step - loss: 507.8556 - acc: 0.0000e+00\n",
      "Epoch 54/100\n",
      "12/12 [==============================] - 0s 706us/step - loss: 507.4576 - acc: 0.0000e+00\n",
      "Epoch 55/100\n",
      "12/12 [==============================] - 0s 1ms/step - loss: 507.0225 - acc: 0.0000e+00\n",
      "Epoch 56/100\n",
      "12/12 [==============================] - 0s 433us/step - loss: 506.6136 - acc: 0.0000e+00\n",
      "Epoch 57/100\n",
      "12/12 [==============================] - 0s 781us/step - loss: 506.1999 - acc: 0.0000e+00\n",
      "Epoch 58/100\n",
      "12/12 [==============================] - 0s 455us/step - loss: 505.8102 - acc: 0.0000e+00\n",
      "Epoch 59/100\n",
      "12/12 [==============================] - 0s 984us/step - loss: 505.4228 - acc: 0.0000e+00\n",
      "Epoch 60/100\n",
      "12/12 [==============================] - 0s 668us/step - loss: 505.0578 - acc: 0.0000e+00\n",
      "Epoch 61/100\n",
      "12/12 [==============================] - 0s 363us/step - loss: 504.6938 - acc: 0.0000e+00\n",
      "Epoch 62/100\n",
      "12/12 [==============================] - 0s 411us/step - loss: 504.3494 - acc: 0.0000e+00\n",
      "Epoch 63/100\n",
      "12/12 [==============================] - 0s 364us/step - loss: 503.9960 - acc: 0.0000e+00\n",
      "Epoch 64/100\n",
      "12/12 [==============================] - 0s 390us/step - loss: 503.6574 - acc: 0.0000e+00\n",
      "Epoch 65/100\n",
      "12/12 [==============================] - 0s 397us/step - loss: 503.2992 - acc: 0.0000e+00\n",
      "Epoch 66/100\n",
      "12/12 [==============================] - 0s 393us/step - loss: 502.9425 - acc: 0.0000e+00\n",
      "Epoch 67/100\n",
      "12/12 [==============================] - 0s 341us/step - loss: 502.5580 - acc: 0.0000e+00\n",
      "Epoch 68/100\n",
      "12/12 [==============================] - 0s 677us/step - loss: 502.1779 - acc: 0.0000e+00\n",
      "Epoch 69/100\n",
      "12/12 [==============================] - 0s 618us/step - loss: 501.7758 - acc: 0.0000e+00\n",
      "Epoch 70/100\n",
      "12/12 [==============================] - 0s 500us/step - loss: 501.3927 - acc: 0.0000e+00\n",
      "Epoch 71/100\n",
      "12/12 [==============================] - 0s 425us/step - loss: 500.9994 - acc: 0.0000e+00\n",
      "Epoch 72/100\n",
      "12/12 [==============================] - 0s 484us/step - loss: 500.6284 - acc: 0.0000e+00\n",
      "Epoch 73/100\n",
      "12/12 [==============================] - 0s 465us/step - loss: 500.2531 - acc: 0.0000e+00\n",
      "Epoch 74/100\n",
      "12/12 [==============================] - 0s 740us/step - loss: 499.8965 - acc: 0.0000e+00\n",
      "Epoch 75/100\n",
      "12/12 [==============================] - 0s 389us/step - loss: 499.5331 - acc: 0.0000e+00\n",
      "Epoch 76/100\n",
      "12/12 [==============================] - 0s 766us/step - loss: 499.1852 - acc: 0.0000e+00\n",
      "Epoch 77/100\n",
      "12/12 [==============================] - 0s 485us/step - loss: 498.8240 - acc: 0.0000e+00\n",
      "Epoch 78/100\n",
      "12/12 [==============================] - 0s 536us/step - loss: 498.4749 - acc: 0.0000e+00\n",
      "Epoch 79/100\n",
      "12/12 [==============================] - 0s 405us/step - loss: 498.1010 - acc: 0.0000e+00\n",
      "Epoch 80/100\n",
      "12/12 [==============================] - 0s 785us/step - loss: 497.7397 - acc: 0.0000e+00\n"
     ]
    },
    {
     "name": "stdout",
     "output_type": "stream",
     "text": [
      "Epoch 81/100\n",
      "12/12 [==============================] - 0s 543us/step - loss: 497.3566 - acc: 0.0000e+00\n",
      "Epoch 82/100\n",
      "12/12 [==============================] - 0s 743us/step - loss: 496.9896 - acc: 0.0000e+00\n",
      "Epoch 83/100\n",
      "12/12 [==============================] - 0s 695us/step - loss: 496.6089 - acc: 0.0000e+00\n",
      "Epoch 84/100\n",
      "12/12 [==============================] - 0s 436us/step - loss: 496.2436 - acc: 0.0000e+00\n",
      "Epoch 85/100\n",
      "12/12 [==============================] - 0s 652us/step - loss: 495.8678 - acc: 0.0000e+00\n",
      "Epoch 86/100\n",
      "12/12 [==============================] - 0s 822us/step - loss: 495.5087 - acc: 0.0000e+00\n",
      "Epoch 87/100\n",
      "12/12 [==============================] - 0s 496us/step - loss: 495.1393 - acc: 0.0000e+00\n",
      "Epoch 88/100\n",
      "12/12 [==============================] - 0s 490us/step - loss: 494.7891 - acc: 0.0000e+00\n",
      "Epoch 89/100\n",
      "12/12 [==============================] - 0s 515us/step - loss: 494.4229 - acc: 0.0000e+00\n",
      "Epoch 90/100\n",
      "12/12 [==============================] - 0s 389us/step - loss: 494.0708 - acc: 0.0000e+00\n",
      "Epoch 91/100\n",
      "12/12 [==============================] - 0s 478us/step - loss: 493.7036 - acc: 0.0000e+00\n",
      "Epoch 92/100\n",
      "12/12 [==============================] - 0s 1ms/step - loss: 493.3667 - acc: 0.0000e+00\n",
      "Epoch 93/100\n",
      "12/12 [==============================] - 0s 444us/step - loss: 494.0002 - acc: 0.0000e+00\n",
      "Epoch 94/100\n",
      "12/12 [==============================] - 0s 724us/step - loss: 492.8568 - acc: 0.0000e+00\n",
      "Epoch 95/100\n",
      "12/12 [==============================] - 0s 361us/step - loss: 492.1433 - acc: 0.0000e+00\n",
      "Epoch 96/100\n",
      "12/12 [==============================] - 0s 462us/step - loss: 491.6635 - acc: 0.0000e+00\n",
      "Epoch 97/100\n",
      "12/12 [==============================] - 0s 419us/step - loss: 491.2508 - acc: 0.0000e+00\n",
      "Epoch 98/100\n",
      "12/12 [==============================] - 0s 379us/step - loss: 490.8692 - acc: 0.0000e+00\n",
      "Epoch 99/100\n",
      "12/12 [==============================] - 0s 512us/step - loss: 490.4953 - acc: 0.0000e+00\n",
      "Epoch 100/100\n",
      "12/12 [==============================] - 0s 866us/step - loss: 490.1314 - acc: 0.0000e+00\n"
     ]
    },
    {
     "data": {
      "text/plain": [
       "<keras.callbacks.History at 0x7f4bc167f128>"
      ]
     },
     "execution_count": 118,
     "metadata": {},
     "output_type": "execute_result"
    }
   ],
   "source": [
    "# Fitting the ANN to the training set \n",
    "model.fit(X_train, Y_train, epochs = 100)"
   ]
  },
  {
   "cell_type": "code",
   "execution_count": 119,
   "metadata": {
    "collapsed": true
   },
   "outputs": [],
   "source": [
    "# predicting the test set result \n",
    "Y_pred = model.predict(X_test)"
   ]
  },
  {
   "cell_type": "code",
   "execution_count": 120,
   "metadata": {},
   "outputs": [
    {
     "data": {
      "text/plain": [
       "array([[ 32.40517044],\n",
       "       [ 16.7673378 ],\n",
       "       [ 25.39621544],\n",
       "       [ 32.43638611]], dtype=float32)"
      ]
     },
     "execution_count": 120,
     "metadata": {},
     "output_type": "execute_result"
    }
   ],
   "source": [
    "Y_pred"
   ]
  },
  {
   "cell_type": "code",
   "execution_count": 90,
   "metadata": {},
   "outputs": [
    {
     "data": {
      "text/plain": [
       "array([ 12.,   5.,  41.,   4.])"
      ]
     },
     "execution_count": 90,
     "metadata": {},
     "output_type": "execute_result"
    }
   ],
   "source": [
    "Y_test"
   ]
  },
  {
   "cell_type": "code",
   "execution_count": 91,
   "metadata": {
    "collapsed": true
   },
   "outputs": [],
   "source": [
    "from sklearn.ensemble import ExtraTreesRegressor"
   ]
  },
  {
   "cell_type": "code",
   "execution_count": 92,
   "metadata": {
    "collapsed": true
   },
   "outputs": [],
   "source": [
    "tree = ExtraTreesRegressor()"
   ]
  },
  {
   "cell_type": "code",
   "execution_count": 93,
   "metadata": {},
   "outputs": [
    {
     "data": {
      "text/plain": [
       "ExtraTreesRegressor(bootstrap=False, criterion='mse', max_depth=None,\n",
       "          max_features='auto', max_leaf_nodes=None,\n",
       "          min_impurity_split=1e-07, min_samples_leaf=1,\n",
       "          min_samples_split=2, min_weight_fraction_leaf=0.0,\n",
       "          n_estimators=10, n_jobs=1, oob_score=False, random_state=None,\n",
       "          verbose=0, warm_start=False)"
      ]
     },
     "execution_count": 93,
     "metadata": {},
     "output_type": "execute_result"
    }
   ],
   "source": [
    "tree.fit(X, Y)"
   ]
  },
  {
   "cell_type": "code",
   "execution_count": 94,
   "metadata": {},
   "outputs": [
    {
     "name": "stdout",
     "output_type": "stream",
     "text": [
      "[ 0.17935991  0.14494051  0.13533878  0.19589314  0.06004009  0.28442758]\n"
     ]
    }
   ],
   "source": [
    "print(tree.feature_importances_)"
   ]
  },
  {
   "cell_type": "code",
   "execution_count": 69,
   "metadata": {},
   "outputs": [
    {
     "data": {
      "text/html": [
       "<div>\n",
       "<style>\n",
       "    .dataframe thead tr:only-child th {\n",
       "        text-align: right;\n",
       "    }\n",
       "\n",
       "    .dataframe thead th {\n",
       "        text-align: left;\n",
       "    }\n",
       "\n",
       "    .dataframe tbody tr th {\n",
       "        vertical-align: top;\n",
       "    }\n",
       "</style>\n",
       "<table border=\"1\" class=\"dataframe\">\n",
       "  <thead>\n",
       "    <tr style=\"text-align: right;\">\n",
       "      <th></th>\n",
       "      <th>overall_rating</th>\n",
       "      <th>positive</th>\n",
       "      <th>negative</th>\n",
       "      <th>no_of_reviews</th>\n",
       "      <th>discount_value</th>\n",
       "      <th>discount_rate</th>\n",
       "    </tr>\n",
       "  </thead>\n",
       "  <tbody>\n",
       "    <tr>\n",
       "      <th>0</th>\n",
       "      <td>4.5</td>\n",
       "      <td>89.0</td>\n",
       "      <td>6.0</td>\n",
       "      <td>4949.0</td>\n",
       "      <td>124.0</td>\n",
       "      <td>62.0</td>\n",
       "    </tr>\n",
       "    <tr>\n",
       "      <th>1</th>\n",
       "      <td>4.7</td>\n",
       "      <td>92.0</td>\n",
       "      <td>4.0</td>\n",
       "      <td>846.0</td>\n",
       "      <td>100.0</td>\n",
       "      <td>40.0</td>\n",
       "    </tr>\n",
       "    <tr>\n",
       "      <th>2</th>\n",
       "      <td>4.1</td>\n",
       "      <td>74.0</td>\n",
       "      <td>14.0</td>\n",
       "      <td>1462.0</td>\n",
       "      <td>81.0</td>\n",
       "      <td>41.0</td>\n",
       "    </tr>\n",
       "    <tr>\n",
       "      <th>3</th>\n",
       "      <td>4.3</td>\n",
       "      <td>83.0</td>\n",
       "      <td>12.0</td>\n",
       "      <td>1154.0</td>\n",
       "      <td>220.0</td>\n",
       "      <td>44.0</td>\n",
       "    </tr>\n",
       "    <tr>\n",
       "      <th>4</th>\n",
       "      <td>4.2</td>\n",
       "      <td>80.0</td>\n",
       "      <td>9.0</td>\n",
       "      <td>510.0</td>\n",
       "      <td>11.0</td>\n",
       "      <td>37.0</td>\n",
       "    </tr>\n",
       "    <tr>\n",
       "      <th>5</th>\n",
       "      <td>4.5</td>\n",
       "      <td>90.0</td>\n",
       "      <td>6.0</td>\n",
       "      <td>3552.0</td>\n",
       "      <td>166.0</td>\n",
       "      <td>42.0</td>\n",
       "    </tr>\n",
       "    <tr>\n",
       "      <th>6</th>\n",
       "      <td>4.6</td>\n",
       "      <td>91.0</td>\n",
       "      <td>5.0</td>\n",
       "      <td>3581.0</td>\n",
       "      <td>80.0</td>\n",
       "      <td>53.0</td>\n",
       "    </tr>\n",
       "    <tr>\n",
       "      <th>7</th>\n",
       "      <td>4.4</td>\n",
       "      <td>86.0</td>\n",
       "      <td>6.0</td>\n",
       "      <td>356.0</td>\n",
       "      <td>121.0</td>\n",
       "      <td>48.0</td>\n",
       "    </tr>\n",
       "    <tr>\n",
       "      <th>8</th>\n",
       "      <td>3.4</td>\n",
       "      <td>52.0</td>\n",
       "      <td>31.0</td>\n",
       "      <td>226.0</td>\n",
       "      <td>155.0</td>\n",
       "      <td>48.0</td>\n",
       "    </tr>\n",
       "    <tr>\n",
       "      <th>9</th>\n",
       "      <td>4.7</td>\n",
       "      <td>97.0</td>\n",
       "      <td>5.0</td>\n",
       "      <td>32.0</td>\n",
       "      <td>50.0</td>\n",
       "      <td>14.0</td>\n",
       "    </tr>\n",
       "    <tr>\n",
       "      <th>10</th>\n",
       "      <td>4.2</td>\n",
       "      <td>79.0</td>\n",
       "      <td>18.0</td>\n",
       "      <td>126.0</td>\n",
       "      <td>141.0</td>\n",
       "      <td>40.0</td>\n",
       "    </tr>\n",
       "    <tr>\n",
       "      <th>11</th>\n",
       "      <td>4.6</td>\n",
       "      <td>92.0</td>\n",
       "      <td>4.0</td>\n",
       "      <td>742.0</td>\n",
       "      <td>81.0</td>\n",
       "      <td>41.0</td>\n",
       "    </tr>\n",
       "    <tr>\n",
       "      <th>12</th>\n",
       "      <td>4.5</td>\n",
       "      <td>90.0</td>\n",
       "      <td>5.0</td>\n",
       "      <td>2908.0</td>\n",
       "      <td>56.0</td>\n",
       "      <td>28.0</td>\n",
       "    </tr>\n",
       "    <tr>\n",
       "      <th>13</th>\n",
       "      <td>4.7</td>\n",
       "      <td>93.0</td>\n",
       "      <td>4.0</td>\n",
       "      <td>1243.0</td>\n",
       "      <td>125.0</td>\n",
       "      <td>42.0</td>\n",
       "    </tr>\n",
       "    <tr>\n",
       "      <th>14</th>\n",
       "      <td>4.5</td>\n",
       "      <td>90.0</td>\n",
       "      <td>4.0</td>\n",
       "      <td>529.0</td>\n",
       "      <td>68.0</td>\n",
       "      <td>34.0</td>\n",
       "    </tr>\n",
       "    <tr>\n",
       "      <th>15</th>\n",
       "      <td>4.6</td>\n",
       "      <td>91.0</td>\n",
       "      <td>5.0</td>\n",
       "      <td>2127.0</td>\n",
       "      <td>145.0</td>\n",
       "      <td>37.0</td>\n",
       "    </tr>\n",
       "  </tbody>\n",
       "</table>\n",
       "</div>"
      ],
      "text/plain": [
       "    overall_rating  positive  negative  no_of_reviews  discount_value  \\\n",
       "0              4.5      89.0       6.0         4949.0           124.0   \n",
       "1              4.7      92.0       4.0          846.0           100.0   \n",
       "2              4.1      74.0      14.0         1462.0            81.0   \n",
       "3              4.3      83.0      12.0         1154.0           220.0   \n",
       "4              4.2      80.0       9.0          510.0            11.0   \n",
       "5              4.5      90.0       6.0         3552.0           166.0   \n",
       "6              4.6      91.0       5.0         3581.0            80.0   \n",
       "7              4.4      86.0       6.0          356.0           121.0   \n",
       "8              3.4      52.0      31.0          226.0           155.0   \n",
       "9              4.7      97.0       5.0           32.0            50.0   \n",
       "10             4.2      79.0      18.0          126.0           141.0   \n",
       "11             4.6      92.0       4.0          742.0            81.0   \n",
       "12             4.5      90.0       5.0         2908.0            56.0   \n",
       "13             4.7      93.0       4.0         1243.0           125.0   \n",
       "14             4.5      90.0       4.0          529.0            68.0   \n",
       "15             4.6      91.0       5.0         2127.0           145.0   \n",
       "\n",
       "    discount_rate  \n",
       "0            62.0  \n",
       "1            40.0  \n",
       "2            41.0  \n",
       "3            44.0  \n",
       "4            37.0  \n",
       "5            42.0  \n",
       "6            53.0  \n",
       "7            48.0  \n",
       "8            48.0  \n",
       "9            14.0  \n",
       "10           40.0  \n",
       "11           41.0  \n",
       "12           28.0  \n",
       "13           42.0  \n",
       "14           34.0  \n",
       "15           37.0  "
      ]
     },
     "execution_count": 69,
     "metadata": {},
     "output_type": "execute_result"
    }
   ],
   "source": [
    "dataset.iloc[:,1:7]"
   ]
  },
  {
   "cell_type": "code",
   "execution_count": null,
   "metadata": {
    "collapsed": true
   },
   "outputs": [],
   "source": []
  }
 ],
 "metadata": {
  "kernelspec": {
   "display_name": "Python [conda env:anaconda3]",
   "language": "python",
   "name": "conda-env-anaconda3-py"
  },
  "language_info": {
   "codemirror_mode": {
    "name": "ipython",
    "version": 3
   },
   "file_extension": ".py",
   "mimetype": "text/x-python",
   "name": "python",
   "nbconvert_exporter": "python",
   "pygments_lexer": "ipython3",
   "version": "3.5.3"
  }
 },
 "nbformat": 4,
 "nbformat_minor": 2
}
