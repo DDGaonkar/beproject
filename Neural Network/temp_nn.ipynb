{
 "cells": [
  {
   "cell_type": "code",
   "execution_count": 1,
   "metadata": {
    "collapsed": true
   },
   "outputs": [],
   "source": [
    "import numpy as np\n",
    "import matplotlib.pyplot as plt\n",
    "import pandas as pd"
   ]
  },
  {
   "cell_type": "code",
   "execution_count": 2,
   "metadata": {
    "collapsed": true
   },
   "outputs": [],
   "source": [
    "dataset = pd.read_csv('data1.csv')\n",
    "# X: independent variable matrix & y: dependent variable vector\n",
    "X = dataset.iloc[:,1:7].values\n",
    "# X = pd.DataFrame(X)\n",
    "Y  = dataset.iloc[:,0].values"
   ]
  },
  {
   "cell_type": "code",
   "execution_count": 3,
   "metadata": {},
   "outputs": [
    {
     "name": "stderr",
     "output_type": "stream",
     "text": [
      "/home/deepanshu/anaconda3/lib/python3.5/site-packages/sklearn/cross_validation.py:44: DeprecationWarning: This module was deprecated in version 0.18 in favor of the model_selection module into which all the refactored classes and functions are moved. Also note that the interface of the new CV iterators are different from that of this module. This module will be removed in 0.20.\n",
      "  \"This module will be removed in 0.20.\", DeprecationWarning)\n"
     ]
    }
   ],
   "source": [
    "from sklearn.cross_validation import train_test_split\n",
    "X_train, X_test, Y_train, Y_test = train_test_split(X, Y, test_size = 0.2, random_state = 0)"
   ]
  },
  {
   "cell_type": "code",
   "execution_count": 4,
   "metadata": {},
   "outputs": [
    {
     "name": "stderr",
     "output_type": "stream",
     "text": [
      "Using TensorFlow backend.\n"
     ]
    }
   ],
   "source": [
    "import keras \n",
    "from keras.models import Sequential\n",
    "from keras.layers import Dense "
   ]
  },
  {
   "cell_type": "code",
   "execution_count": 25,
   "metadata": {
    "collapsed": true
   },
   "outputs": [],
   "source": [
    "# Initializing the ANN\n",
    "model = Sequential()\n",
    "\n",
    "# Adding the input layer and the first hidden layer\n",
    "model.add(Dense(4, kernel_initializer = 'uniform' , activation = 'relu', input_dim = 6))    \n",
    "\n",
    "# Adding another hidden layer \n",
    "model.add(Dense(4, kernel_initializer = 'uniform', activation = 'relu'))\n",
    "\n",
    "# Adding the output layer \n",
    "model.add(Dense(units= 1, kernel_initializer = 'uniform', activation = 'linear'))        \n",
    "\n",
    "# Compiling the ANN\n",
    "model.compile(optimizer = 'rmsprop', loss = 'mse', metrics = ['accuracy'])"
   ]
  },
  {
   "cell_type": "code",
   "execution_count": 29,
   "metadata": {
    "scrolled": false
   },
   "outputs": [
    {
     "name": "stdout",
     "output_type": "stream",
     "text": [
      "Epoch 1/100\n",
      "12/12 [==============================] - 0s 1ms/step - loss: 923.0149 - acc: 0.0000e+00\n",
      "Epoch 2/100\n",
      "12/12 [==============================] - 0s 982us/step - loss: 921.3420 - acc: 0.0000e+00\n",
      "Epoch 3/100\n",
      "12/12 [==============================] - 0s 1ms/step - loss: 922.2225 - acc: 0.0000e+00\n",
      "Epoch 4/100\n",
      "12/12 [==============================] - 0s 1ms/step - loss: 920.0695 - acc: 0.0000e+00\n",
      "Epoch 5/100\n",
      "12/12 [==============================] - 0s 991us/step - loss: 919.4494 - acc: 0.0000e+00\n",
      "Epoch 6/100\n",
      "12/12 [==============================] - 0s 1ms/step - loss: 919.4034 - acc: 0.0000e+00\n",
      "Epoch 7/100\n",
      "12/12 [==============================] - 0s 2ms/step - loss: 919.9919 - acc: 0.0000e+00\n",
      "Epoch 8/100\n",
      "12/12 [==============================] - 0s 1ms/step - loss: 922.2407 - acc: 0.0000e+00\n",
      "Epoch 9/100\n",
      "12/12 [==============================] - 0s 1ms/step - loss: 916.7600 - acc: 0.0000e+00\n",
      "Epoch 10/100\n",
      "12/12 [==============================] - 0s 1ms/step - loss: 921.7004 - acc: 0.0000e+00\n",
      "Epoch 11/100\n",
      "12/12 [==============================] - 0s 1ms/step - loss: 913.4349 - acc: 0.0000e+00\n",
      "Epoch 12/100\n",
      "12/12 [==============================] - 0s 1ms/step - loss: 912.8292 - acc: 0.0000e+00\n",
      "Epoch 13/100\n",
      "12/12 [==============================] - 0s 1ms/step - loss: 913.1049 - acc: 0.0000e+00\n",
      "Epoch 14/100\n",
      "12/12 [==============================] - 0s 1ms/step - loss: 912.6418 - acc: 0.0000e+00\n",
      "Epoch 15/100\n",
      "12/12 [==============================] - 0s 1ms/step - loss: 914.9265 - acc: 0.0000e+00\n",
      "Epoch 16/100\n",
      "12/12 [==============================] - 0s 1ms/step - loss: 910.0111 - acc: 0.0000e+00\n",
      "Epoch 17/100\n",
      "12/12 [==============================] - 0s 1ms/step - loss: 911.1315 - acc: 0.0000e+00\n",
      "Epoch 18/100\n",
      "12/12 [==============================] - 0s 1ms/step - loss: 907.9139 - acc: 0.0000e+00\n",
      "Epoch 19/100\n",
      "12/12 [==============================] - 0s 2ms/step - loss: 912.6578 - acc: 0.0000e+00\n",
      "Epoch 20/100\n",
      "12/12 [==============================] - 0s 1ms/step - loss: 906.7374 - acc: 0.0000e+00\n",
      "Epoch 21/100\n",
      "12/12 [==============================] - 0s 1ms/step - loss: 905.9667 - acc: 0.0000e+00\n",
      "Epoch 22/100\n",
      "12/12 [==============================] - 0s 2ms/step - loss: 905.2795 - acc: 0.0833\n",
      "Epoch 23/100\n",
      "12/12 [==============================] - ETA: 0s - loss: 783.2722 - acc: 0.125 - 0s 1ms/step - loss: 903.7224 - acc: 0.0833\n",
      "Epoch 24/100\n",
      "12/12 [==============================] - 0s 2ms/step - loss: 910.7866 - acc: 0.0833\n",
      "Epoch 25/100\n",
      "12/12 [==============================] - 0s 1ms/step - loss: 902.3876 - acc: 0.0833\n",
      "Epoch 26/100\n",
      "12/12 [==============================] - 0s 2ms/step - loss: 905.2434 - acc: 0.0833\n",
      "Epoch 27/100\n",
      "12/12 [==============================] - 0s 2ms/step - loss: 902.1441 - acc: 0.0833\n",
      "Epoch 28/100\n",
      "12/12 [==============================] - 0s 981us/step - loss: 900.1841 - acc: 0.0833\n",
      "Epoch 29/100\n",
      "12/12 [==============================] - 0s 1ms/step - loss: 900.1989 - acc: 0.0833\n",
      "Epoch 30/100\n",
      "12/12 [==============================] - 0s 1ms/step - loss: 898.1910 - acc: 0.0833\n",
      "Epoch 31/100\n",
      "12/12 [==============================] - 0s 2ms/step - loss: 901.4426 - acc: 0.0833\n",
      "Epoch 32/100\n",
      "12/12 [==============================] - 0s 1ms/step - loss: 898.3503 - acc: 0.0833\n",
      "Epoch 33/100\n",
      "12/12 [==============================] - 0s 2ms/step - loss: 896.9126 - acc: 0.0833\n",
      "Epoch 34/100\n",
      "12/12 [==============================] - 0s 2ms/step - loss: 896.2249 - acc: 0.0833\n",
      "Epoch 35/100\n",
      "12/12 [==============================] - 0s 1ms/step - loss: 895.1941 - acc: 0.0833\n",
      "Epoch 36/100\n",
      "12/12 [==============================] - 0s 1ms/step - loss: 892.2540 - acc: 0.0833\n",
      "Epoch 37/100\n",
      "12/12 [==============================] - 0s 2ms/step - loss: 890.8394 - acc: 0.0833 \n",
      "Epoch 38/100\n",
      "12/12 [==============================] - 0s 1ms/step - loss: 894.1112 - acc: 0.0833\n",
      "Epoch 39/100\n",
      "12/12 [==============================] - 0s 1ms/step - loss: 889.6736 - acc: 0.0833\n",
      "Epoch 40/100\n",
      "12/12 [==============================] - 0s 1ms/step - loss: 889.1932 - acc: 0.0833\n",
      "Epoch 41/100\n",
      "12/12 [==============================] - 0s 2ms/step - loss: 885.9843 - acc: 0.0833\n",
      "Epoch 42/100\n",
      "12/12 [==============================] - 0s 1ms/step - loss: 892.2419 - acc: 0.0000e+00\n",
      "Epoch 43/100\n",
      "12/12 [==============================] - 0s 1ms/step - loss: 885.6228 - acc: 0.0000e+00\n",
      "Epoch 44/100\n",
      "12/12 [==============================] - 0s 1ms/step - loss: 883.0283 - acc: 0.0000e+00\n",
      "Epoch 45/100\n",
      "12/12 [==============================] - 0s 2ms/step - loss: 885.1746 - acc: 0.0000e+00\n",
      "Epoch 46/100\n",
      "12/12 [==============================] - 0s 1ms/step - loss: 880.9976 - acc: 0.0000e+00\n",
      "Epoch 47/100\n",
      "12/12 [==============================] - 0s 1ms/step - loss: 880.2253 - acc: 0.0000e+00\n",
      "Epoch 48/100\n",
      "12/12 [==============================] - 0s 1ms/step - loss: 879.1956 - acc: 0.0000e+00\n",
      "Epoch 49/100\n",
      "12/12 [==============================] - 0s 1ms/step - loss: 883.0199 - acc: 0.0000e+00\n",
      "Epoch 50/100\n",
      "12/12 [==============================] - 0s 1ms/step - loss: 876.8878 - acc: 0.0000e+00\n",
      "Epoch 51/100\n",
      "12/12 [==============================] - 0s 1ms/step - loss: 885.8938 - acc: 0.0000e+00\n",
      "Epoch 52/100\n",
      "12/12 [==============================] - 0s 1ms/step - loss: 876.4687 - acc: 0.0000e+00\n",
      "Epoch 53/100\n",
      "12/12 [==============================] - 0s 1ms/step - loss: 876.4885 - acc: 0.0000e+00\n",
      "Epoch 54/100\n",
      "12/12 [==============================] - 0s 2ms/step - loss: 876.9073 - acc: 0.0000e+00\n",
      "Epoch 55/100\n",
      "12/12 [==============================] - 0s 2ms/step - loss: 872.2366 - acc: 0.0000e+00\n",
      "Epoch 56/100\n",
      "12/12 [==============================] - 0s 926us/step - loss: 871.3687 - acc: 0.0000e+00\n",
      "Epoch 57/100\n",
      "12/12 [==============================] - 0s 1ms/step - loss: 870.5050 - acc: 0.0000e+00\n",
      "Epoch 58/100\n",
      "12/12 [==============================] - 0s 1ms/step - loss: 871.1428 - acc: 0.0000e+00\n",
      "Epoch 59/100\n",
      "12/12 [==============================] - 0s 2ms/step - loss: 872.5077 - acc: 0.0000e+00\n",
      "Epoch 60/100\n",
      "12/12 [==============================] - 0s 937us/step - loss: 866.4219 - acc: 0.0000e+00\n",
      "Epoch 61/100\n",
      "12/12 [==============================] - 0s 1ms/step - loss: 865.2701 - acc: 0.0000e+00\n",
      "Epoch 62/100\n",
      "12/12 [==============================] - 0s 1ms/step - loss: 867.2594 - acc: 0.0000e+00\n",
      "Epoch 63/100\n",
      "12/12 [==============================] - 0s 2ms/step - loss: 862.7319 - acc: 0.0000e+00\n",
      "Epoch 64/100\n",
      "12/12 [==============================] - 0s 1ms/step - loss: 865.5691 - acc: 0.0000e+00\n",
      "Epoch 65/100\n",
      "12/12 [==============================] - 0s 1ms/step - loss: 861.4044 - acc: 0.0000e+00\n",
      "Epoch 66/100\n",
      "12/12 [==============================] - 0s 3ms/step - loss: 859.3748 - acc: 0.0000e+00\n",
      "Epoch 67/100\n",
      "12/12 [==============================] - 0s 1ms/step - loss: 860.3095 - acc: 0.0000e+00\n",
      "Epoch 68/100\n",
      "12/12 [==============================] - 0s 1ms/step - loss: 862.2574 - acc: 0.0000e+00\n",
      "Epoch 69/100\n",
      "12/12 [==============================] - 0s 2ms/step - loss: 856.5205 - acc: 0.0000e+00\n",
      "Epoch 70/100\n",
      "12/12 [==============================] - 0s 1ms/step - loss: 857.4136 - acc: 0.0000e+00\n",
      "Epoch 71/100\n",
      "12/12 [==============================] - 0s 1ms/step - loss: 862.9902 - acc: 0.0000e+00\n",
      "Epoch 72/100\n",
      "12/12 [==============================] - 0s 1ms/step - loss: 858.4301 - acc: 0.0000e+00\n",
      "Epoch 73/100\n",
      "12/12 [==============================] - 0s 959us/step - loss: 852.5713 - acc: 0.0000e+00\n",
      "Epoch 74/100\n",
      "12/12 [==============================] - 0s 2ms/step - loss: 851.4135 - acc: 0.0000e+00\n",
      "Epoch 75/100\n",
      "12/12 [==============================] - 0s 2ms/step - loss: 850.2549 - acc: 0.0000e+00\n",
      "Epoch 76/100\n",
      "12/12 [==============================] - 0s 2ms/step - loss: 849.7475 - acc: 0.0000e+00\n",
      "Epoch 77/100\n",
      "12/12 [==============================] - 0s 2ms/step - loss: 850.2217 - acc: 0.0000e+00\n",
      "Epoch 78/100\n",
      "12/12 [==============================] - 0s 2ms/step - loss: 847.1106 - acc: 0.0000e+00\n",
      "Epoch 79/100\n",
      "12/12 [==============================] - 0s 2ms/step - loss: 846.7111 - acc: 0.0000e+00\n",
      "Epoch 80/100\n",
      "12/12 [==============================] - 0s 1ms/step - loss: 843.4770 - acc: 0.0000e+00\n",
      "Epoch 81/100\n",
      "12/12 [==============================] - 0s 2ms/step - loss: 843.4816 - acc: 0.0000e+00\n",
      "Epoch 82/100\n"
     ]
    },
    {
     "name": "stdout",
     "output_type": "stream",
     "text": [
      "12/12 [==============================] - 0s 2ms/step - loss: 846.4175 - acc: 0.0000e+00\n",
      "Epoch 83/100\n",
      "12/12 [==============================] - 0s 2ms/step - loss: 840.4141 - acc: 0.0000e+00\n",
      "Epoch 84/100\n",
      "12/12 [==============================] - 0s 1ms/step - loss: 838.2360 - acc: 0.0000e+00\n",
      "Epoch 85/100\n",
      "12/12 [==============================] - 0s 1ms/step - loss: 842.2788 - acc: 0.0000e+00\n",
      "Epoch 86/100\n",
      "12/12 [==============================] - 0s 2ms/step - loss: 835.9451 - acc: 0.0000e+00\n",
      "Epoch 87/100\n",
      "12/12 [==============================] - 0s 1ms/step - loss: 833.9524 - acc: 0.0000e+00\n",
      "Epoch 88/100\n",
      "12/12 [==============================] - 0s 1ms/step - loss: 836.4393 - acc: 0.0000e+00\n",
      "Epoch 89/100\n",
      "12/12 [==============================] - 0s 2ms/step - loss: 832.4112 - acc: 0.0000e+00\n",
      "Epoch 90/100\n",
      "12/12 [==============================] - 0s 2ms/step - loss: 838.0189 - acc: 0.0000e+00\n",
      "Epoch 91/100\n",
      "12/12 [==============================] - 0s 1ms/step - loss: 831.9457 - acc: 0.0000e+00\n",
      "Epoch 92/100\n",
      "12/12 [==============================] - 0s 1ms/step - loss: 827.5534 - acc: 0.0000e+00\n",
      "Epoch 93/100\n",
      "12/12 [==============================] - 0s 1ms/step - loss: 826.7943 - acc: 0.0000e+00\n",
      "Epoch 94/100\n",
      "12/12 [==============================] - 0s 1ms/step - loss: 829.6074 - acc: 0.0000e+00\n",
      "Epoch 95/100\n",
      "12/12 [==============================] - 0s 2ms/step - loss: 823.7399 - acc: 0.0000e+00\n",
      "Epoch 96/100\n",
      "12/12 [==============================] - 0s 1ms/step - loss: 827.0816 - acc: 0.0000e+00\n",
      "Epoch 97/100\n",
      "12/12 [==============================] - 0s 1ms/step - loss: 821.3142 - acc: 0.0000e+00\n",
      "Epoch 98/100\n",
      "12/12 [==============================] - 0s 2ms/step - loss: 821.5773 - acc: 0.0000e+00\n",
      "Epoch 99/100\n",
      "12/12 [==============================] - 0s 2ms/step - loss: 824.3458 - acc: 0.0000e+00\n",
      "Epoch 100/100\n",
      "12/12 [==============================] - 0s 2ms/step - loss: 820.2893 - acc: 0.0000e+00\n"
     ]
    },
    {
     "data": {
      "text/plain": [
       "<keras.callbacks.History at 0x7f2550b7cd30>"
      ]
     },
     "execution_count": 29,
     "metadata": {},
     "output_type": "execute_result"
    }
   ],
   "source": [
    "# Fitting the ANN to the training set \n",
    "model.fit(X_train, Y_train, batch_size=8, epochs = 100)"
   ]
  },
  {
   "cell_type": "code",
   "execution_count": 30,
   "metadata": {
    "collapsed": true
   },
   "outputs": [],
   "source": [
    "# predicting the test set result \n",
    "Y_pred = model.predict(X_test)"
   ]
  },
  {
   "cell_type": "code",
   "execution_count": 31,
   "metadata": {},
   "outputs": [
    {
     "data": {
      "text/plain": [
       "array([[ 12.74158573],\n",
       "       [ 26.87109375],\n",
       "       [ 10.80540657],\n",
       "       [  6.37382221]], dtype=float32)"
      ]
     },
     "execution_count": 31,
     "metadata": {},
     "output_type": "execute_result"
    }
   ],
   "source": [
    "Y_pred"
   ]
  },
  {
   "cell_type": "code",
   "execution_count": 12,
   "metadata": {},
   "outputs": [
    {
     "data": {
      "text/plain": [
       "array([ 12.,   5.,  41.,   4.])"
      ]
     },
     "execution_count": 12,
     "metadata": {},
     "output_type": "execute_result"
    }
   ],
   "source": [
    "Y_test"
   ]
  },
  {
   "cell_type": "code",
   "execution_count": 32,
   "metadata": {
    "collapsed": true
   },
   "outputs": [],
   "source": [
    "from sklearn.ensemble import ExtraTreesRegressor"
   ]
  },
  {
   "cell_type": "code",
   "execution_count": 33,
   "metadata": {
    "collapsed": true
   },
   "outputs": [],
   "source": [
    "tree = ExtraTreesRegressor()"
   ]
  },
  {
   "cell_type": "code",
   "execution_count": 34,
   "metadata": {},
   "outputs": [
    {
     "data": {
      "text/plain": [
       "ExtraTreesRegressor(bootstrap=False, criterion='mse', max_depth=None,\n",
       "          max_features='auto', max_leaf_nodes=None,\n",
       "          min_impurity_split=1e-07, min_samples_leaf=1,\n",
       "          min_samples_split=2, min_weight_fraction_leaf=0.0,\n",
       "          n_estimators=10, n_jobs=1, oob_score=False, random_state=None,\n",
       "          verbose=0, warm_start=False)"
      ]
     },
     "execution_count": 34,
     "metadata": {},
     "output_type": "execute_result"
    }
   ],
   "source": [
    "tree.fit(X, Y)"
   ]
  },
  {
   "cell_type": "code",
   "execution_count": 35,
   "metadata": {},
   "outputs": [
    {
     "name": "stdout",
     "output_type": "stream",
     "text": [
      "[ 0.2418477   0.08489732  0.10329783  0.20268278  0.07979714  0.28747723]\n"
     ]
    }
   ],
   "source": [
    "print(tree.feature_importances_)"
   ]
  },
  {
   "cell_type": "code",
   "execution_count": 69,
   "metadata": {},
   "outputs": [
    {
     "data": {
      "text/html": [
       "<div>\n",
       "<style>\n",
       "    .dataframe thead tr:only-child th {\n",
       "        text-align: right;\n",
       "    }\n",
       "\n",
       "    .dataframe thead th {\n",
       "        text-align: left;\n",
       "    }\n",
       "\n",
       "    .dataframe tbody tr th {\n",
       "        vertical-align: top;\n",
       "    }\n",
       "</style>\n",
       "<table border=\"1\" class=\"dataframe\">\n",
       "  <thead>\n",
       "    <tr style=\"text-align: right;\">\n",
       "      <th></th>\n",
       "      <th>overall_rating</th>\n",
       "      <th>positive</th>\n",
       "      <th>negative</th>\n",
       "      <th>no_of_reviews</th>\n",
       "      <th>discount_value</th>\n",
       "      <th>discount_rate</th>\n",
       "    </tr>\n",
       "  </thead>\n",
       "  <tbody>\n",
       "    <tr>\n",
       "      <th>0</th>\n",
       "      <td>4.5</td>\n",
       "      <td>89.0</td>\n",
       "      <td>6.0</td>\n",
       "      <td>4949.0</td>\n",
       "      <td>124.0</td>\n",
       "      <td>62.0</td>\n",
       "    </tr>\n",
       "    <tr>\n",
       "      <th>1</th>\n",
       "      <td>4.7</td>\n",
       "      <td>92.0</td>\n",
       "      <td>4.0</td>\n",
       "      <td>846.0</td>\n",
       "      <td>100.0</td>\n",
       "      <td>40.0</td>\n",
       "    </tr>\n",
       "    <tr>\n",
       "      <th>2</th>\n",
       "      <td>4.1</td>\n",
       "      <td>74.0</td>\n",
       "      <td>14.0</td>\n",
       "      <td>1462.0</td>\n",
       "      <td>81.0</td>\n",
       "      <td>41.0</td>\n",
       "    </tr>\n",
       "    <tr>\n",
       "      <th>3</th>\n",
       "      <td>4.3</td>\n",
       "      <td>83.0</td>\n",
       "      <td>12.0</td>\n",
       "      <td>1154.0</td>\n",
       "      <td>220.0</td>\n",
       "      <td>44.0</td>\n",
       "    </tr>\n",
       "    <tr>\n",
       "      <th>4</th>\n",
       "      <td>4.2</td>\n",
       "      <td>80.0</td>\n",
       "      <td>9.0</td>\n",
       "      <td>510.0</td>\n",
       "      <td>11.0</td>\n",
       "      <td>37.0</td>\n",
       "    </tr>\n",
       "    <tr>\n",
       "      <th>5</th>\n",
       "      <td>4.5</td>\n",
       "      <td>90.0</td>\n",
       "      <td>6.0</td>\n",
       "      <td>3552.0</td>\n",
       "      <td>166.0</td>\n",
       "      <td>42.0</td>\n",
       "    </tr>\n",
       "    <tr>\n",
       "      <th>6</th>\n",
       "      <td>4.6</td>\n",
       "      <td>91.0</td>\n",
       "      <td>5.0</td>\n",
       "      <td>3581.0</td>\n",
       "      <td>80.0</td>\n",
       "      <td>53.0</td>\n",
       "    </tr>\n",
       "    <tr>\n",
       "      <th>7</th>\n",
       "      <td>4.4</td>\n",
       "      <td>86.0</td>\n",
       "      <td>6.0</td>\n",
       "      <td>356.0</td>\n",
       "      <td>121.0</td>\n",
       "      <td>48.0</td>\n",
       "    </tr>\n",
       "    <tr>\n",
       "      <th>8</th>\n",
       "      <td>3.4</td>\n",
       "      <td>52.0</td>\n",
       "      <td>31.0</td>\n",
       "      <td>226.0</td>\n",
       "      <td>155.0</td>\n",
       "      <td>48.0</td>\n",
       "    </tr>\n",
       "    <tr>\n",
       "      <th>9</th>\n",
       "      <td>4.7</td>\n",
       "      <td>97.0</td>\n",
       "      <td>5.0</td>\n",
       "      <td>32.0</td>\n",
       "      <td>50.0</td>\n",
       "      <td>14.0</td>\n",
       "    </tr>\n",
       "    <tr>\n",
       "      <th>10</th>\n",
       "      <td>4.2</td>\n",
       "      <td>79.0</td>\n",
       "      <td>18.0</td>\n",
       "      <td>126.0</td>\n",
       "      <td>141.0</td>\n",
       "      <td>40.0</td>\n",
       "    </tr>\n",
       "    <tr>\n",
       "      <th>11</th>\n",
       "      <td>4.6</td>\n",
       "      <td>92.0</td>\n",
       "      <td>4.0</td>\n",
       "      <td>742.0</td>\n",
       "      <td>81.0</td>\n",
       "      <td>41.0</td>\n",
       "    </tr>\n",
       "    <tr>\n",
       "      <th>12</th>\n",
       "      <td>4.5</td>\n",
       "      <td>90.0</td>\n",
       "      <td>5.0</td>\n",
       "      <td>2908.0</td>\n",
       "      <td>56.0</td>\n",
       "      <td>28.0</td>\n",
       "    </tr>\n",
       "    <tr>\n",
       "      <th>13</th>\n",
       "      <td>4.7</td>\n",
       "      <td>93.0</td>\n",
       "      <td>4.0</td>\n",
       "      <td>1243.0</td>\n",
       "      <td>125.0</td>\n",
       "      <td>42.0</td>\n",
       "    </tr>\n",
       "    <tr>\n",
       "      <th>14</th>\n",
       "      <td>4.5</td>\n",
       "      <td>90.0</td>\n",
       "      <td>4.0</td>\n",
       "      <td>529.0</td>\n",
       "      <td>68.0</td>\n",
       "      <td>34.0</td>\n",
       "    </tr>\n",
       "    <tr>\n",
       "      <th>15</th>\n",
       "      <td>4.6</td>\n",
       "      <td>91.0</td>\n",
       "      <td>5.0</td>\n",
       "      <td>2127.0</td>\n",
       "      <td>145.0</td>\n",
       "      <td>37.0</td>\n",
       "    </tr>\n",
       "  </tbody>\n",
       "</table>\n",
       "</div>"
      ],
      "text/plain": [
       "    overall_rating  positive  negative  no_of_reviews  discount_value  \\\n",
       "0              4.5      89.0       6.0         4949.0           124.0   \n",
       "1              4.7      92.0       4.0          846.0           100.0   \n",
       "2              4.1      74.0      14.0         1462.0            81.0   \n",
       "3              4.3      83.0      12.0         1154.0           220.0   \n",
       "4              4.2      80.0       9.0          510.0            11.0   \n",
       "5              4.5      90.0       6.0         3552.0           166.0   \n",
       "6              4.6      91.0       5.0         3581.0            80.0   \n",
       "7              4.4      86.0       6.0          356.0           121.0   \n",
       "8              3.4      52.0      31.0          226.0           155.0   \n",
       "9              4.7      97.0       5.0           32.0            50.0   \n",
       "10             4.2      79.0      18.0          126.0           141.0   \n",
       "11             4.6      92.0       4.0          742.0            81.0   \n",
       "12             4.5      90.0       5.0         2908.0            56.0   \n",
       "13             4.7      93.0       4.0         1243.0           125.0   \n",
       "14             4.5      90.0       4.0          529.0            68.0   \n",
       "15             4.6      91.0       5.0         2127.0           145.0   \n",
       "\n",
       "    discount_rate  \n",
       "0            62.0  \n",
       "1            40.0  \n",
       "2            41.0  \n",
       "3            44.0  \n",
       "4            37.0  \n",
       "5            42.0  \n",
       "6            53.0  \n",
       "7            48.0  \n",
       "8            48.0  \n",
       "9            14.0  \n",
       "10           40.0  \n",
       "11           41.0  \n",
       "12           28.0  \n",
       "13           42.0  \n",
       "14           34.0  \n",
       "15           37.0  "
      ]
     },
     "execution_count": 69,
     "metadata": {},
     "output_type": "execute_result"
    }
   ],
   "source": [
    "dataset.iloc[:,1:7]"
   ]
  },
  {
   "cell_type": "code",
   "execution_count": null,
   "metadata": {
    "collapsed": true
   },
   "outputs": [],
   "source": []
  }
 ],
 "metadata": {
  "kernelspec": {
   "display_name": "Python [conda env:anaconda3]",
   "language": "python",
   "name": "conda-env-anaconda3-py"
  },
  "language_info": {
   "codemirror_mode": {
    "name": "ipython",
    "version": 3
   },
   "file_extension": ".py",
   "mimetype": "text/x-python",
   "name": "python",
   "nbconvert_exporter": "python",
   "pygments_lexer": "ipython3",
   "version": "3.5.3"
  }
 },
 "nbformat": 4,
 "nbformat_minor": 2
}
